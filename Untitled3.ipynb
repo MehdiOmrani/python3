{
 "cells": [
  {
   "cell_type": "code",
   "execution_count": null,
   "id": "3e4d7928",
   "metadata": {},
   "outputs": [],
   "source": [
    "#Question 1\n",
    "def multiply_list(items):\n",
    "    tot = 1\n",
    "    for x in items:\n",
    "        tot *= x\n",
    "    return tot\n",
    "print(multiply_list([2,3,6]))"
   ]
  },
  {
   "cell_type": "code",
   "execution_count": null,
   "id": "ab8be4c1",
   "metadata": {},
   "outputs": [],
   "source": [
    "#Question 2\n",
    "def last(n): return n[-1]\n",
    "\n",
    "def sort_list_last(tuples):\n",
    "  return sorted(tuples, key=last)\n",
    "\n",
    "print(sort_list_last([(2, 5), (1, 2), (4, 4), (2, 3), (2, 1)]))"
   ]
  },
  {
   "cell_type": "code",
   "execution_count": null,
   "id": "a20c6af8",
   "metadata": {},
   "outputs": [],
   "source": [
    "#Question 3\n",
    "from collections import Counter\n",
    "d1 = {'a': 100, 'b': 200, 'c':300}\n",
    "d2 = {'a': 300, 'b': 200, 'd':400}\n",
    "d = Counter(d1) + Counter(d2)\n",
    "print(d)"
   ]
  },
  {
   "cell_type": "code",
   "execution_count": null,
   "id": "c429b7a6",
   "metadata": {},
   "outputs": [],
   "source": [
    "#Question 4\n",
    " number = 8\n",
    "\n",
    "numberDict = {}\n",
    "for i in range(1, number+1):\n",
    "    numberDict[i] = i*i\n",
    "\n",
    "print(numberDict)"
   ]
  },
  {
   "cell_type": "code",
   "execution_count": null,
   "id": "e4032d35",
   "metadata": {},
   "outputs": [],
   "source": [
    "#Question 5\n",
    "price = [('item1', '12.20'), ('item2', '15.10'), ('item3', '24.5')]\n",
    "print( sorted(price, key=lambda x: float(x[1]), reverse=True))\n"
   ]
  }
 ],
 "metadata": {
  "kernelspec": {
   "display_name": "Python 3",
   "language": "python",
   "name": "python3"
  },
  "language_info": {
   "codemirror_mode": {
    "name": "ipython",
    "version": 3
   },
   "file_extension": ".py",
   "mimetype": "text/x-python",
   "name": "python",
   "nbconvert_exporter": "python",
   "pygments_lexer": "ipython3",
   "version": "3.8.8"
  }
 },
 "nbformat": 4,
 "nbformat_minor": 5
}
